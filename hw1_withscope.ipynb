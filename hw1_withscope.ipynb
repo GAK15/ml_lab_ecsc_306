{
 "cells": [
  {
   "cell_type": "code",
   "execution_count": 6,
   "metadata": {},
   "outputs": [
    {
     "name": "stdout",
     "output_type": "stream",
     "text": [
      "35\n"
     ]
    }
   ],
   "source": [
    "#(a3+b3)\n",
    "import tensorflow as tf\n",
    "x=tf.constant(2)\n",
    "y=tf.constant(3)\n",
    "with tf.name_scope(\"MyOperationGroup\"):\n",
    "    with tf.name_scope(\"Scope_A\"):\n",
    "        a = tf.multiply(x,x)\n",
    "        b = tf.multiply(y,y)  \n",
    "with tf.name_scope(\"Scope_B\"):\n",
    "    c = tf.add(a, b, name=\"And_These_ones\")\n",
    "    d = tf.multiply(x, y, name=\"Multiply_these_numbers\")\n",
    "\n",
    "with tf.name_scope(\"Scope_C\"):\n",
    "    e=tf.subtract(c,d, name=\"subtrating\")\n",
    "    f=tf.add(x,y)\n",
    "   \n",
    "with tf.name_scope(\"Scope_D\"):\n",
    "    g = tf.multiply(f,e)\n",
    "\n",
    "\n",
    "with tf.Session() as sess:\n",
    "    writer = tf.summary.FileWriter(\"/tmp/tboard/output_cube\", sess.graph)\n",
    "    print(sess.run(g))\n",
    "    writer.close()\n",
    "\n"
   ]
  },
  {
   "cell_type": "code",
   "execution_count": 7,
   "metadata": {},
   "outputs": [
    {
     "name": "stdout",
     "output_type": "stream",
     "text": [
      "9\n"
     ]
    }
   ],
   "source": [
    "#(a-b)2\n",
    "\n",
    "a=6\n",
    "b=3\n",
    "\n",
    "with tf.name_scope(\"lab1_assgn1\"):\n",
    "    with tf.name_scope(\"Scope_A\"):\n",
    "        x = tf.multiply(a, a)\n",
    "        y = tf.multiply(b, b)\n",
    "    with tf.name_scope(\"Scope_B\"):\n",
    "        z = tf.multiply(2, a)\n",
    "        h = tf.multiply(z, b)\n",
    "\n",
    "with tf.name_scope(\"Scope_C\"):\n",
    "    d = tf.add(x, y)\n",
    "    s = tf.subtract(d, h)\n",
    "\n",
    "\n",
    "\n",
    "with tf.Session() as sess:\n",
    "    writer = tf.summary.FileWriter(\"/tmp/tboard/output_square\", sess.graph)\n",
    "    print(sess.run(s))\n",
    "    writer.close()\n"
   ]
  },
  {
   "cell_type": "code",
   "execution_count": null,
   "metadata": {
    "collapsed": true
   },
   "outputs": [],
   "source": []
  }
 ],
 "metadata": {
  "kernelspec": {
   "display_name": "Python 3",
   "language": "python",
   "name": "python3"
  },
  "language_info": {
   "codemirror_mode": {
    "name": "ipython",
    "version": 3
   },
   "file_extension": ".py",
   "mimetype": "text/x-python",
   "name": "python",
   "nbconvert_exporter": "python",
   "pygments_lexer": "ipython3",
   "version": "3.6.1"
  }
 },
 "nbformat": 4,
 "nbformat_minor": 2
}
