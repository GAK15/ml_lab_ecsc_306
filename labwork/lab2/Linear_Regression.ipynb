{
 "cells": [
  {
   "cell_type": "code",
   "execution_count": 26,
   "metadata": {
    "collapsed": true
   },
   "outputs": [],
   "source": [
    "\n",
    "\n",
    "import tensorflow as tf\n",
    "import matplotlib.pyplot as plt\n",
    "\n",
    "x = tf.constant([1.0,4.0,2.0,3.0,5.0],name ='x')\n",
    "y = tf.constant([1.0,3.0,3.0,2.0,5.0],name='y')\n",
    "\n",
    "training_epoch = 100\n",
    "learning_rate = 0.005\n",
    "\n"
   ]
  },
  {
   "cell_type": "code",
   "execution_count": 27,
   "metadata": {},
   "outputs": [
    {
     "name": "stdout",
     "output_type": "stream",
     "text": [
      "theta_0= 0.234352  theta_1= 0.813008  error= -0.805295\n",
      "theta_0= 0.250456  theta_1= 0.847961  error= -0.585909\n",
      "theta_0= 0.256537  theta_1= 0.848084  error= -0.57821\n",
      "theta_0= 0.261943  theta_1= 0.846706  error= -0.579916\n",
      "theta_0= 0.267103  theta_1= 0.845319  error= -0.581955\n",
      "theta_0= 0.272044  theta_1= 0.843988  error= -0.583928\n",
      "theta_0= 0.276777  theta_1= 0.842712  error= -0.585817\n",
      "theta_0= 0.281312  theta_1= 0.84149  error= -0.587628\n",
      "theta_0= 0.285655  theta_1= 0.84032  error= -0.589362\n",
      "theta_0= 0.289815  theta_1= 0.839199  error= -0.591023\n",
      "Optimized\n"
     ]
    }
   ],
   "source": [
    "t1=0.0\n",
    "t0=0.0\n",
    "with tf.Session() as sess:\n",
    "    for epoch in range (training_epoch):\n",
    "        for i in range (0,5):\n",
    "            x1=tf.multiply(t1,x[i])\n",
    "            pred=tf.add(t0,x1)\n",
    "            error=tf.subtract(pred,y[i])\n",
    "            t0=tf.subtract(t0,tf.multiply(learning_rate,error))\n",
    "            t1=tf.subtract(t1,tf.multiply(learning_rate,tf.multiply(error,x[i])))\n",
    "        if (epoch+1) % 10 == 0:\n",
    "            print(\"theta_0=\",sess.run(t0),\" theta_1=\",sess.run(t1),\" error=\",sess.run(error))\n",
    "    print(\"Optimized\")"
   ]
  },
  {
   "cell_type": "code",
   "execution_count": 28,
   "metadata": {},
   "outputs": [
    {
     "data": {
      "image/png": "[encoded data removed]",
      "text/plain": [
       "<matplotlib.figure.Figure at 0x7f5b16ecaf28>"
      ]
     },
     "metadata": {},
     "output_type": "display_data"
    }
   ],
   "source": [
    "sess=tf.Session()\n",
    "x1=sess.run(x)\n",
    "y1=sess.run(y)\n",
    "plt.plot(x1, y1, 'ro', label='Original data')\n",
    "plt.plot(x1, sess.run(t1) * x1 + sess.run(t0), label='Fitted line')\n",
    "plt.legend()\n",
    "plt.show()"
   ]
  },
  {
   "cell_type": "code",
   "execution_count": null,
   "metadata": {
    "collapsed": true
   },
   "outputs": [],
   "source": []
  }
 ],
 "metadata": {
  "kernelspec": {
   "display_name": "Python 3",
   "language": "python",
   "name": "python3"
  },
  "language_info": {
   "codemirror_mode": {
    "name": "ipython",
    "version": 3
   },
   "file_extension": ".py",
   "mimetype": "text/x-python",
   "name": "python",
   "nbconvert_exporter": "python",
   "pygments_lexer": "ipython3",
   "version": "3.6.1"
  }
 },
 "nbformat": 4,
 "nbformat_minor": 2
}
