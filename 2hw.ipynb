{
 "cells": [
  {
   "cell_type": "code",
   "execution_count": 4,
   "metadata": {},
   "outputs": [
    {
     "name": "stdout",
     "output_type": "stream",
     "text": [
      "3.6\n",
      "6.8\n",
      "9.9\n",
      "4.1\n",
      "5.0\n",
      "6.0\n",
      "2.2\n",
      "4.1\n",
      "4.4\n",
      "3.5\n",
      "4.0\n",
      "1.1\n"
     ]
    }
   ],
   "source": [
    "import tensorflow as tf\n",
    "\n",
    "x=tf.constant([3.6, 6.8, 9.9, 4.1, 5.0, 6])\n",
    "y=tf.constant([2.2, 4.1, 4.4, 3.5, 4, 1.1])\n",
    "\n",
    "with tf.Session() as sess:\n",
    "    for i in range(len(sess.run(x))):\n",
    "        output = sess.run(x[i])\n",
    "        print(output)\n",
    "   \n",
    "\n",
    "with tf.Session() as sess1:\n",
    "    for i in range(len(sess1.run(y))):\n",
    "        output1 = sess1.run(y[i])\n",
    "        print(output1)"
   ]
  },
  {
   "cell_type": "code",
   "execution_count": 5,
   "metadata": {},
   "outputs": [
    {
     "name": "stdout",
     "output_type": "stream",
     "text": [
      "5.5\n",
      "3.0\n"
     ]
    }
   ],
   "source": [
    "sum1=tf.constant(0)\n",
    "with tf.Session() as sess:\n",
    "    for i in range(len(sess.run(x))):\n",
    "        output =sess.run(x[i])\n",
    "        sum1=tf.add(sum1,output)\n",
    "    a=tf.divide(sum1,len(sess.run(x)))\n",
    "    avgx=sess.run(a)\n",
    "print(avgx)\n",
    "\n",
    "\n",
    "sum1=tf.constant(0)\n",
    "with tf.Session() as sess:\n",
    "    for i in range(len(sess.run(y))):\n",
    "        output =sess.run(y[i])\n",
    "        sum1=tf.add(sum1,output)\n",
    "    a=tf.divide(sum1,len(sess.run(y)))\n",
    "    avgy=sess.run(a)\n",
    "print(avgy)"
   ]
  },
  {
   "cell_type": "code",
   "execution_count": 6,
   "metadata": {},
   "outputs": [
    {
     "name": "stdout",
     "output_type": "stream",
     "text": [
      "27.12\n"
     ]
    }
   ],
   "source": [
    "#Calculate variance for x\n",
    "var=tf.constant(0.0)\n",
    "with tf.Session() as sess:\n",
    "    for i in range(len(sess.run(x))):\n",
    "        a=tf.subtract(sess.run(x[i]),avgx)\n",
    "        b=tf.square(a)\n",
    "        var=tf.add(var,b)\n",
    "    vari=sess.run(var)\n",
    "print(vari)"
   ]
  },
  {
   "cell_type": "code",
   "execution_count": 7,
   "metadata": {},
   "outputs": [
    {
     "name": "stdout",
     "output_type": "stream",
     "text": [
      "6.96\n"
     ]
    }
   ],
   "source": [
    "#Calculate covariance of x & y\n",
    "cov=tf.constant(0.0)\n",
    "with tf.Session() as sess:\n",
    "    for i in range(len(sess.run(x))):\n",
    "        a=tf.subtract(sess.run(x[i]),avgx)\n",
    "        b=tf.subtract(sess.run(y[i]),avgy)\n",
    "        c=tf.multiply(a,b)\n",
    "        cov=tf.add(cov,c)\n",
    "    covar=sess.run(cov)\n",
    "print(covar)"
   ]
  },
  {
   "cell_type": "code",
   "execution_count": 8,
   "metadata": {},
   "outputs": [
    {
     "name": "stdout",
     "output_type": "stream",
     "text": [
      "0.256637\n"
     ]
    }
   ],
   "source": [
    "#Calculate value of c\n",
    "\n",
    "temp=tf.divide(cov,var)\n",
    "\n",
    "with tf.Session() as sess:\n",
    "    const_c=sess.run(temp)\n",
    "    print(const_c)"
   ]
  },
  {
   "cell_type": "code",
   "execution_count": 9,
   "metadata": {},
   "outputs": [
    {
     "name": "stdout",
     "output_type": "stream",
     "text": [
      "The value of m\n",
      "3.0\n"
     ]
    }
   ],
   "source": [
    "#Calculate value of m\n",
    "\n",
    "c=tf.to_float(const_c)\n",
    "d=tf.to_float(avgx)\n",
    "e=tf.multiply(c,d)\n",
    "f=tf.to_float(avgy)\n",
    "res=tf.subtract(f,e)\n",
    "with tf.Session() as sess:\n",
    "    res=sess.run(f)\n",
    "print('The value of m')\n",
    "print(res)"
   ]
  },
  {
   "cell_type": "code",
   "execution_count": null,
   "metadata": {
    "collapsed": true
   },
   "outputs": [],
   "source": []
  }
 ],
 "metadata": {
  "kernelspec": {
   "display_name": "Python 3",
   "language": "python",
   "name": "python3"
  },
  "language_info": {
   "codemirror_mode": {
    "name": "ipython",
    "version": 3
   },
   "file_extension": ".py",
   "mimetype": "text/x-python",
   "name": "python",
   "nbconvert_exporter": "python",
   "pygments_lexer": "ipython3",
   "version": "3.6.1"
  }
 },
 "nbformat": 4,
 "nbformat_minor": 2
}
